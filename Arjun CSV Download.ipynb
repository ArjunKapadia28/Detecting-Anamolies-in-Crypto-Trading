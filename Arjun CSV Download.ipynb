{
 "cells": [
  {
   "cell_type": "code",
   "execution_count": 8,
   "id": "1ef76646",
   "metadata": {},
   "outputs": [],
   "source": [
    "import ccxt\n",
    "import pandas as pd\n",
    "from datetime import datetime, timedelta\n",
    "\n",
    "# Initialize Binance API\n",
    "exchange = ccxt.binance()\n",
    "\n",
    "# Specify the symbol and timeframe\n",
    "symbol = 'BTC/USDT'\n",
    "timeframe = '1m'"
   ]
  },
  {
   "cell_type": "code",
   "execution_count": 9,
   "id": "f3631a84",
   "metadata": {},
   "outputs": [],
   "source": [
    "# Define the start and end dates\n",
    "start_date = datetime.now() - timedelta(days=180)\n",
    "end_date = datetime.now()\n",
    "\n",
    "# Convert dates to timestamps\n",
    "since = int(start_date.timestamp() * 1000)\n",
    "end_timestamp = int(end_date.timestamp() * 1000)"
   ]
  },
  {
   "cell_type": "code",
   "execution_count": 10,
   "id": "a09e60f7",
   "metadata": {},
   "outputs": [],
   "source": [
    "# List to hold all data\n",
    "all_ohlcv = []\n",
    "\n",
    "# Loop to fetch data until the end date\n",
    "while since < end_timestamp:\n",
    "    ohlcv = exchange.fetch_ohlcv(symbol, timeframe, since=since, limit=1000)\n",
    "    if not ohlcv:\n",
    "        break\n",
    "    all_ohlcv.extend(ohlcv)\n",
    "    # Update 'since' to the timestamp of the last fetched data\n",
    "    since = ohlcv[-1][0] + 60000  # Move to the next minute"
   ]
  },
  {
   "cell_type": "code",
   "execution_count": 11,
   "id": "db3fa3b8",
   "metadata": {},
   "outputs": [],
   "source": [
    "# Create a DataFrame\n",
    "df = pd.DataFrame(all_ohlcv, columns=['timestamp', 'open', 'high', 'low', 'close', 'volume'])\n",
    "df['datetime'] = pd.to_datetime(df['timestamp'], unit='ms')\n",
    "\n",
    "# Rearrange columns\n",
    "df = df[['datetime', 'open', 'high', 'low', 'close', 'volume']]\n",
    "\n",
    "# Save to CSV\n",
    "df.to_csv('binance_6months.csv', index=False)"
   ]
  },
  {
   "cell_type": "code",
   "execution_count": 12,
   "id": "b87575ce",
   "metadata": {},
   "outputs": [
    {
     "name": "stdout",
     "output_type": "stream",
     "text": [
      "             datetime      open      high       low     close    volume\n",
      "0 2024-02-07 07:30:00  42961.10  42961.10  42953.93  42953.94   5.14845\n",
      "1 2024-02-07 07:31:00  42953.93  42953.94  42953.93  42953.93   4.00253\n",
      "2 2024-02-07 07:32:00  42953.94  42953.94  42951.10  42953.93   5.13712\n",
      "3 2024-02-07 07:33:00  42953.93  42967.48  42953.93  42967.47  13.43767\n",
      "4 2024-02-07 07:34:00  42967.47  42967.48  42967.47  42967.48   4.90092\n",
      "Total rows fetched: 259201\n"
     ]
    }
   ],
   "source": [
    "# Print the first few rows\n",
    "print(df.head())\n",
    "\n",
    "# Print the number of rows fetched\n",
    "print(f\"Total rows fetched: {len(df)}\")"
   ]
  }
 ],
 "metadata": {
  "kernelspec": {
   "display_name": "Python 3",
   "language": "python",
   "name": "python3"
  },
  "language_info": {
   "codemirror_mode": {
    "name": "ipython",
    "version": 3
   },
   "file_extension": ".py",
   "mimetype": "text/x-python",
   "name": "python",
   "nbconvert_exporter": "python",
   "pygments_lexer": "ipython3",
   "version": "3.8.8"
  }
 },
 "nbformat": 4,
 "nbformat_minor": 5
}
